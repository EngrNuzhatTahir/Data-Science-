{
  "nbformat": 4,
  "nbformat_minor": 0,
  "metadata": {
    "colab": {
      "provenance": []
    },
    "kernelspec": {
      "name": "python3",
      "display_name": "Python 3"
    },
    "language_info": {
      "name": "python"
    }
  },
  "cells": [
    {
      "cell_type": "markdown",
      "source": [
        "# Data Science Tools and Ecosystem\n"
      ],
      "metadata": {
        "id": "F9C2fwlzlE4O"
      }
    },
    {
      "cell_type": "markdown",
      "source": [
        "Some of the popular languages that Data Scientists use are:\n",
        "\n",
        "Python\n",
        "R\n",
        "Julia\n",
        "SQL\n",
        "Scala"
      ],
      "metadata": {
        "id": "Mw5NwOGMmVxm"
      }
    },
    {
      "cell_type": "markdown",
      "source": [
        "In this notebook, Data Science Tools and Ecosystem are summarized."
      ],
      "metadata": {
        "id": "k8TUeEo3mS33"
      }
    },
    {
      "cell_type": "markdown",
      "source": [
        "Some of the commonly used libraries used by Data Scientists include:\n",
        " NumPy\n",
        "- Pandas\n",
        "- Scikit-learn\n",
        "- TensorFlow\n",
        "- PyTorch"
      ],
      "metadata": {
        "id": "C8rUq-zCmtie"
      }
    },
    {
      "cell_type": "markdown",
      "source": [
        "Data Science Tools\n"
      ],
      "metadata": {
        "id": "dYKl9C2DmjsY"
      }
    },
    {
      "cell_type": "code",
      "execution_count": 2,
      "metadata": {
        "colab": {
          "base_uri": "https://localhost:8080/"
        },
        "id": "QkSHaCoek3Gb",
        "outputId": "963a9f1b-a038-48d5-f768-a0fcfd98f099"
      },
      "outputs": [
        {
          "output_type": "stream",
          "name": "stdout",
          "text": [
            " Data Science Tools\n",
            "\n",
            "| Category              | Tools                          |\n",
            "|-----------------------|--------------------------------|\n",
            "| Data Cleaning         | Pandas, OpenRefine             |\n",
            "| Data Analysis         | NumPy, Pandas                  |\n",
            "| Machine Learning      | Scikit-learn, TensorFlow, PyTorch |\n",
            "| Data Visualization    | Matplotlib, Seaborn, Plotly    |\n",
            "| Big Data Processing   | Spark, Hadoop, Hive            |\n",
            "\n"
          ]
        }
      ],
      "source": [
        "# Data Science Tools Table\n",
        "table = \"\"\" Data Science Tools\n",
        "\n",
        "| Category              | Tools                          |\n",
        "|-----------------------|--------------------------------|\n",
        "| Data Cleaning         | Pandas, OpenRefine             |\n",
        "| Data Analysis         | NumPy, Pandas                  |\n",
        "| Machine Learning      | Scikit-learn, TensorFlow, PyTorch |\n",
        "| Data Visualization    | Matplotlib, Seaborn, Plotly    |\n",
        "| Big Data Processing   | Spark, Hadoop, Hive            |\n",
        "\"\"\"\n",
        "\n",
        "print(table)\n"
      ]
    },
    {
      "cell_type": "markdown",
      "source": [
        "Below are a few examples of evaluating arithmetic expressions in Python.\n"
      ],
      "metadata": {
        "id": "edHb3XEpneIJ"
      }
    },
    {
      "cell_type": "code",
      "source": [
        "# Multiplication and Addition\n",
        "a = 3\n",
        "b = 4\n",
        "c=  5\n",
        "\n",
        "product = a * b\n",
        "sum_result = product + c\n",
        "\n",
        "print(f\" This a simple arithmetic expression to mutiply then add integers {a} and {b} *{c} is: {sum_result}\")\n"
      ],
      "metadata": {
        "colab": {
          "base_uri": "https://localhost:8080/"
        },
        "id": "gARitgF_oGM7",
        "outputId": "edb78567-b96f-4957-afe8-6f512834774a"
      },
      "execution_count": 8,
      "outputs": [
        {
          "output_type": "stream",
          "name": "stdout",
          "text": [
            " This a simple arithmetic expression to mutiply then add integers 3 and 4 *5 is: 17\n"
          ]
        }
      ]
    },
    {
      "cell_type": "code",
      "source": [
        "# Conversion: Minutes to Hours\n",
        "minutes = 120\n",
        "\n",
        "hours = minutes / 60\n",
        "\n",
        "print(f\"{minutes} minutes is equal to {hours} hours\")\n"
      ],
      "metadata": {
        "colab": {
          "base_uri": "https://localhost:8080/"
        },
        "id": "mpXP2VivpLJY",
        "outputId": "131aafbf-51cd-4ea8-8447-73ffd39be467"
      },
      "execution_count": 9,
      "outputs": [
        {
          "output_type": "stream",
          "name": "stdout",
          "text": [
            "120 minutes is equal to 2.0 hours\n"
          ]
        }
      ]
    },
    {
      "cell_type": "markdown",
      "source": [
        "## Objectives\n",
        "\n",
        "- Learn about data science languages and libraries.\n",
        "- Understand basic arithmetic expressions.\n",
        "- Perform arithmetic operations using variables.\n",
        "- Convert units of time.\n",
        "- Demonstrate knowledge of markdown formatting in Jupyter Notebook.\n"
      ],
      "metadata": {
        "id": "RMIdY33TpXYR"
      }
    },
    {
      "cell_type": "markdown",
      "source": [
        "## Author\n",
        "Nuzhat Tahir\n"
      ],
      "metadata": {
        "id": "JB6TRb40pgIR"
      }
    }
  ]
}